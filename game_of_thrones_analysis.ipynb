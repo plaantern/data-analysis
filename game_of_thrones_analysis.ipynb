{
  "nbformat": 4,
  "nbformat_minor": 0,
  "metadata": {
    "colab": {
      "provenance": []
    },
    "kernelspec": {
      "name": "python3",
      "display_name": "Python 3"
    },
    "language_info": {
      "name": "python"
    }
  },
  "cells": [
    {
      "cell_type": "markdown",
      "source": [
        "# Game of Thrones isAlive Prediction"
      ],
      "metadata": {
        "id": "_msrn0o2KpTj"
      }
    },
    {
      "cell_type": "markdown",
      "source": [
        "## Description of the data"
      ],
      "metadata": {
        "id": "3fufslqGG3bf"
      }
    },
    {
      "cell_type": "markdown",
      "source": [
        "* **name**: Name of the character\n",
        "\n",
        "* **Title**: Social status or nobility\n",
        "\n",
        "* **House**: House to which the character belongs\n",
        "\n",
        "* **Culture**: Social group to which the character belongs\n",
        "\n",
        "* **book1/2/3/4/5**: Character's appearance in the book\n",
        "\n",
        "* **Is noble**: Nobility of the character, based on their title\n",
        "\n",
        "* **Age**: Time reference: 305 AC\n",
        "\n",
        "* **male**: Male or female\n",
        "\n",
        "* **dateOfBirth**: Date of birth\n",
        "\n",
        "* **Spouse**: Name of the character’s spouse\n",
        "\n",
        "* **Father**: Name of the character’s father\n",
        "\n",
        "* **Mother**: Name of the character’s mother\n",
        "\n",
        "* **Heir**: Name of the character’s heir\n",
        "\n",
        "* **Is married**: Represents whether the character is married\n",
        "\n",
        "* **Is spouse alive**: Represents whether character's spouse is alive\n",
        "\n",
        "* **Is mother alive:** Represents whether character's mother is alive\n",
        "\n",
        "* **Is heir alive:** Represents whether character's heir is alive\n",
        "\n",
        "* **Is father alive:** Represents whether character's father is alive\n",
        "\n",
        "* **Number dead relations:** Number of deceased characters associated with the character\n",
        "* **Popularity score:** Number of internal incoming and outgoing links to the character’s page on the wiki http://awoiaf.westeros.org\n",
        "\n",
        "Target variable:\n",
        "* **isAlive**:  Whether the character is alive in the book"
      ],
      "metadata": {
        "id": "bxvtk4L2G8QI"
      }
    },
    {
      "cell_type": "markdown",
      "source": [
        "## Part 1. Analysis and preprocessing of data"
      ],
      "metadata": {
        "id": "IQMwu7EfLEE1"
      }
    },
    {
      "cell_type": "markdown",
      "source": [
        "* Data Preprocessing\n",
        "  * Handling missing data\n",
        "  * Creating new features\n",
        "  * Removing unnecessary columns\n",
        "\n",
        "* Data Analysis\n",
        "\n",
        "  * Target variable analysis\n",
        "  * Feature analysis\n",
        "  * Analysis of the impact of features on the target variable\n",
        "\n",
        "* Data Preparation for Model Training"
      ],
      "metadata": {
        "id": "Vqx4hE96MLYx"
      }
    },
    {
      "cell_type": "markdown",
      "source": [
        "Loading the dataset"
      ],
      "metadata": {
        "id": "TiPvOL6hMggs"
      }
    },
    {
      "cell_type": "code",
      "source": [
        "!gdown 1XL0VTygpZj-ZAuTNRBgApZTPQyNDnT-v # train dataset"
      ],
      "metadata": {
        "colab": {
          "base_uri": "https://localhost:8080/"
        },
        "id": "G3CDBy7qMjRA",
        "outputId": "7cb87c27-3ac2-43b1-a05b-80433c3eb5df"
      },
      "execution_count": null,
      "outputs": [
        {
          "output_type": "stream",
          "name": "stdout",
          "text": [
            "Downloading...\n",
            "From: https://drive.google.com/uc?id=1XL0VTygpZj-ZAuTNRBgApZTPQyNDnT-v\n",
            "To: /content/game_of_thrones_train.csv\n",
            "\r  0% 0.00/138k [00:00<?, ?B/s]\r100% 138k/138k [00:00<00:00, 33.2MB/s]\n"
          ]
        }
      ]
    },
    {
      "cell_type": "markdown",
      "source": [
        "Importing numpy, pandas, seaborn, matplotlib"
      ],
      "metadata": {
        "id": "1ANxJNrGNFih"
      }
    },
    {
      "cell_type": "code",
      "source": [
        "import pandas as pd\n",
        "import matplotlib.pyplot as plt\n",
        "import seaborn as sns"
      ],
      "metadata": {
        "id": "EtWuOgU-NJjs"
      },
      "execution_count": null,
      "outputs": []
    },
    {
      "cell_type": "markdown",
      "source": [
        "Load the dataset into a Pandas DataFrame using the `read_csv` function. Instead of the default row names `0,1,...,` use the `index_col` parameter to set the values of the `S.No` column as row names."
      ],
      "metadata": {
        "id": "U6gJUqKVOiNP"
      }
    },
    {
      "cell_type": "code",
      "source": [
        "data = pd.read_csv('/content/game_of_thrones_train.csv', index_col='S.No')\n",
        "data.sample(10)"
      ],
      "metadata": {
        "colab": {
          "base_uri": "https://localhost:8080/",
          "height": 565
        },
        "id": "bTXdw5M0QrIc",
        "outputId": "5b4d5e21-3bed-4825-9f32-c5402f5669b5"
      },
      "execution_count": null,
      "outputs": [
        {
          "output_type": "execute_result",
          "data": {
            "text/plain": [
              "                 name         title  male   culture  dateOfBirth mother  \\\n",
              "S.No                                                                      \n",
              "1186    Lymond Vikary           Ser     1       NaN          NaN    NaN   \n",
              "645         Jon Cupps           Ser     1       NaN          NaN    NaN   \n",
              "741             Maggy           NaN     1       NaN          NaN    NaN   \n",
              "1160      Leo Lefford  Golden Tooth     1       NaN          NaN    NaN   \n",
              "779   Michael Mertyns           Ser     1       NaN          NaN    NaN   \n",
              "1527   Jeyne Lothston           NaN     0       NaN        164.0    NaN   \n",
              "919      Lord Ashford       Ashford     1     Reach          NaN    NaN   \n",
              "57             Quence           NaN     0  Braavosi          NaN    NaN   \n",
              "1028       Eon Hunter  Longbow Hall     1       NaN          NaN    NaN   \n",
              "561             Gyles           Ser     0       NaN          NaN    NaN   \n",
              "\n",
              "     father heir           house           spouse  ...  isAliveMother  \\\n",
              "S.No                                               ...                  \n",
              "1186    NaN  NaN    House Vikary              NaN  ...            NaN   \n",
              "645     NaN  NaN     House Cupps  Leyla Hightower  ...            NaN   \n",
              "741     NaN  NaN             NaN              NaN  ...            NaN   \n",
              "1160    NaN  NaN   House Lefford              NaN  ...            NaN   \n",
              "779     NaN  NaN   House Mertyns              NaN  ...            NaN   \n",
              "1527    NaN  NaN  House Lothston              NaN  ...            NaN   \n",
              "919     NaN  NaN   House Ashford              NaN  ...            NaN   \n",
              "57      NaN  NaN             NaN              NaN  ...            NaN   \n",
              "1028    NaN  NaN    House Hunter              NaN  ...            NaN   \n",
              "561     NaN  NaN      Kingsguard              NaN  ...            NaN   \n",
              "\n",
              "      isAliveFather  isAliveHeir  isAliveSpouse  isMarried  isNoble    age  \\\n",
              "S.No                                                                         \n",
              "1186            NaN          NaN            NaN          0        1    NaN   \n",
              "645             NaN          NaN            1.0          1        1    NaN   \n",
              "741             NaN          NaN            NaN          0        0    NaN   \n",
              "1160            NaN          NaN            NaN          0        1    NaN   \n",
              "779             NaN          NaN            NaN          0        1    NaN   \n",
              "1527            NaN          NaN            NaN          0        0  100.0   \n",
              "919             NaN          NaN            NaN          0        1    NaN   \n",
              "57              NaN          NaN            NaN          0        0    NaN   \n",
              "1028            NaN          NaN            NaN          0        1    NaN   \n",
              "561             NaN          NaN            NaN          0        1    NaN   \n",
              "\n",
              "      numDeadRelations  popularity  isAlive  \n",
              "S.No                                         \n",
              "1186                 0    0.026756        1  \n",
              "645                  0    0.050167        1  \n",
              "741                  0    0.056856        1  \n",
              "1160                 0    0.056856        0  \n",
              "779                  0    0.006689        1  \n",
              "1527                 0    0.023411        0  \n",
              "919                  0    0.010033        1  \n",
              "57                   0    0.020067        1  \n",
              "1028                 0    0.046823        0  \n",
              "561                  0    0.003344        1  \n",
              "\n",
              "[10 rows x 25 columns]"
            ],
            "text/html": [
              "\n",
              "  <div id=\"df-fb2415a6-1b47-4a81-bc1f-6466b5cce435\" class=\"colab-df-container\">\n",
              "    <div>\n",
              "<style scoped>\n",
              "    .dataframe tbody tr th:only-of-type {\n",
              "        vertical-align: middle;\n",
              "    }\n",
              "\n",
              "    .dataframe tbody tr th {\n",
              "        vertical-align: top;\n",
              "    }\n",
              "\n",
              "    .dataframe thead th {\n",
              "        text-align: right;\n",
              "    }\n",
              "</style>\n",
              "<table border=\"1\" class=\"dataframe\">\n",
              "  <thead>\n",
              "    <tr style=\"text-align: right;\">\n",
              "      <th></th>\n",
              "      <th>name</th>\n",
              "      <th>title</th>\n",
              "      <th>male</th>\n",
              "      <th>culture</th>\n",
              "      <th>dateOfBirth</th>\n",
              "      <th>mother</th>\n",
              "      <th>father</th>\n",
              "      <th>heir</th>\n",
              "      <th>house</th>\n",
              "      <th>spouse</th>\n",
              "      <th>...</th>\n",
              "      <th>isAliveMother</th>\n",
              "      <th>isAliveFather</th>\n",
              "      <th>isAliveHeir</th>\n",
              "      <th>isAliveSpouse</th>\n",
              "      <th>isMarried</th>\n",
              "      <th>isNoble</th>\n",
              "      <th>age</th>\n",
              "      <th>numDeadRelations</th>\n",
              "      <th>popularity</th>\n",
              "      <th>isAlive</th>\n",
              "    </tr>\n",
              "    <tr>\n",
              "      <th>S.No</th>\n",
              "      <th></th>\n",
              "      <th></th>\n",
              "      <th></th>\n",
              "      <th></th>\n",
              "      <th></th>\n",
              "      <th></th>\n",
              "      <th></th>\n",
              "      <th></th>\n",
              "      <th></th>\n",
              "      <th></th>\n",
              "      <th></th>\n",
              "      <th></th>\n",
              "      <th></th>\n",
              "      <th></th>\n",
              "      <th></th>\n",
              "      <th></th>\n",
              "      <th></th>\n",
              "      <th></th>\n",
              "      <th></th>\n",
              "      <th></th>\n",
              "      <th></th>\n",
              "    </tr>\n",
              "  </thead>\n",
              "  <tbody>\n",
              "    <tr>\n",
              "      <th>1186</th>\n",
              "      <td>Lymond Vikary</td>\n",
              "      <td>Ser</td>\n",
              "      <td>1</td>\n",
              "      <td>NaN</td>\n",
              "      <td>NaN</td>\n",
              "      <td>NaN</td>\n",
              "      <td>NaN</td>\n",
              "      <td>NaN</td>\n",
              "      <td>House Vikary</td>\n",
              "      <td>NaN</td>\n",
              "      <td>...</td>\n",
              "      <td>NaN</td>\n",
              "      <td>NaN</td>\n",
              "      <td>NaN</td>\n",
              "      <td>NaN</td>\n",
              "      <td>0</td>\n",
              "      <td>1</td>\n",
              "      <td>NaN</td>\n",
              "      <td>0</td>\n",
              "      <td>0.026756</td>\n",
              "      <td>1</td>\n",
              "    </tr>\n",
              "    <tr>\n",
              "      <th>645</th>\n",
              "      <td>Jon Cupps</td>\n",
              "      <td>Ser</td>\n",
              "      <td>1</td>\n",
              "      <td>NaN</td>\n",
              "      <td>NaN</td>\n",
              "      <td>NaN</td>\n",
              "      <td>NaN</td>\n",
              "      <td>NaN</td>\n",
              "      <td>House Cupps</td>\n",
              "      <td>Leyla Hightower</td>\n",
              "      <td>...</td>\n",
              "      <td>NaN</td>\n",
              "      <td>NaN</td>\n",
              "      <td>NaN</td>\n",
              "      <td>1.0</td>\n",
              "      <td>1</td>\n",
              "      <td>1</td>\n",
              "      <td>NaN</td>\n",
              "      <td>0</td>\n",
              "      <td>0.050167</td>\n",
              "      <td>1</td>\n",
              "    </tr>\n",
              "    <tr>\n",
              "      <th>741</th>\n",
              "      <td>Maggy</td>\n",
              "      <td>NaN</td>\n",
              "      <td>1</td>\n",
              "      <td>NaN</td>\n",
              "      <td>NaN</td>\n",
              "      <td>NaN</td>\n",
              "      <td>NaN</td>\n",
              "      <td>NaN</td>\n",
              "      <td>NaN</td>\n",
              "      <td>NaN</td>\n",
              "      <td>...</td>\n",
              "      <td>NaN</td>\n",
              "      <td>NaN</td>\n",
              "      <td>NaN</td>\n",
              "      <td>NaN</td>\n",
              "      <td>0</td>\n",
              "      <td>0</td>\n",
              "      <td>NaN</td>\n",
              "      <td>0</td>\n",
              "      <td>0.056856</td>\n",
              "      <td>1</td>\n",
              "    </tr>\n",
              "    <tr>\n",
              "      <th>1160</th>\n",
              "      <td>Leo Lefford</td>\n",
              "      <td>Golden Tooth</td>\n",
              "      <td>1</td>\n",
              "      <td>NaN</td>\n",
              "      <td>NaN</td>\n",
              "      <td>NaN</td>\n",
              "      <td>NaN</td>\n",
              "      <td>NaN</td>\n",
              "      <td>House Lefford</td>\n",
              "      <td>NaN</td>\n",
              "      <td>...</td>\n",
              "      <td>NaN</td>\n",
              "      <td>NaN</td>\n",
              "      <td>NaN</td>\n",
              "      <td>NaN</td>\n",
              "      <td>0</td>\n",
              "      <td>1</td>\n",
              "      <td>NaN</td>\n",
              "      <td>0</td>\n",
              "      <td>0.056856</td>\n",
              "      <td>0</td>\n",
              "    </tr>\n",
              "    <tr>\n",
              "      <th>779</th>\n",
              "      <td>Michael Mertyns</td>\n",
              "      <td>Ser</td>\n",
              "      <td>1</td>\n",
              "      <td>NaN</td>\n",
              "      <td>NaN</td>\n",
              "      <td>NaN</td>\n",
              "      <td>NaN</td>\n",
              "      <td>NaN</td>\n",
              "      <td>House Mertyns</td>\n",
              "      <td>NaN</td>\n",
              "      <td>...</td>\n",
              "      <td>NaN</td>\n",
              "      <td>NaN</td>\n",
              "      <td>NaN</td>\n",
              "      <td>NaN</td>\n",
              "      <td>0</td>\n",
              "      <td>1</td>\n",
              "      <td>NaN</td>\n",
              "      <td>0</td>\n",
              "      <td>0.006689</td>\n",
              "      <td>1</td>\n",
              "    </tr>\n",
              "    <tr>\n",
              "      <th>1527</th>\n",
              "      <td>Jeyne Lothston</td>\n",
              "      <td>NaN</td>\n",
              "      <td>0</td>\n",
              "      <td>NaN</td>\n",
              "      <td>164.0</td>\n",
              "      <td>NaN</td>\n",
              "      <td>NaN</td>\n",
              "      <td>NaN</td>\n",
              "      <td>House Lothston</td>\n",
              "      <td>NaN</td>\n",
              "      <td>...</td>\n",
              "      <td>NaN</td>\n",
              "      <td>NaN</td>\n",
              "      <td>NaN</td>\n",
              "      <td>NaN</td>\n",
              "      <td>0</td>\n",
              "      <td>0</td>\n",
              "      <td>100.0</td>\n",
              "      <td>0</td>\n",
              "      <td>0.023411</td>\n",
              "      <td>0</td>\n",
              "    </tr>\n",
              "    <tr>\n",
              "      <th>919</th>\n",
              "      <td>Lord Ashford</td>\n",
              "      <td>Ashford</td>\n",
              "      <td>1</td>\n",
              "      <td>Reach</td>\n",
              "      <td>NaN</td>\n",
              "      <td>NaN</td>\n",
              "      <td>NaN</td>\n",
              "      <td>NaN</td>\n",
              "      <td>House Ashford</td>\n",
              "      <td>NaN</td>\n",
              "      <td>...</td>\n",
              "      <td>NaN</td>\n",
              "      <td>NaN</td>\n",
              "      <td>NaN</td>\n",
              "      <td>NaN</td>\n",
              "      <td>0</td>\n",
              "      <td>1</td>\n",
              "      <td>NaN</td>\n",
              "      <td>0</td>\n",
              "      <td>0.010033</td>\n",
              "      <td>1</td>\n",
              "    </tr>\n",
              "    <tr>\n",
              "      <th>57</th>\n",
              "      <td>Quence</td>\n",
              "      <td>NaN</td>\n",
              "      <td>0</td>\n",
              "      <td>Braavosi</td>\n",
              "      <td>NaN</td>\n",
              "      <td>NaN</td>\n",
              "      <td>NaN</td>\n",
              "      <td>NaN</td>\n",
              "      <td>NaN</td>\n",
              "      <td>NaN</td>\n",
              "      <td>...</td>\n",
              "      <td>NaN</td>\n",
              "      <td>NaN</td>\n",
              "      <td>NaN</td>\n",
              "      <td>NaN</td>\n",
              "      <td>0</td>\n",
              "      <td>0</td>\n",
              "      <td>NaN</td>\n",
              "      <td>0</td>\n",
              "      <td>0.020067</td>\n",
              "      <td>1</td>\n",
              "    </tr>\n",
              "    <tr>\n",
              "      <th>1028</th>\n",
              "      <td>Eon Hunter</td>\n",
              "      <td>Longbow Hall</td>\n",
              "      <td>1</td>\n",
              "      <td>NaN</td>\n",
              "      <td>NaN</td>\n",
              "      <td>NaN</td>\n",
              "      <td>NaN</td>\n",
              "      <td>NaN</td>\n",
              "      <td>House Hunter</td>\n",
              "      <td>NaN</td>\n",
              "      <td>...</td>\n",
              "      <td>NaN</td>\n",
              "      <td>NaN</td>\n",
              "      <td>NaN</td>\n",
              "      <td>NaN</td>\n",
              "      <td>0</td>\n",
              "      <td>1</td>\n",
              "      <td>NaN</td>\n",
              "      <td>0</td>\n",
              "      <td>0.046823</td>\n",
              "      <td>0</td>\n",
              "    </tr>\n",
              "    <tr>\n",
              "      <th>561</th>\n",
              "      <td>Gyles</td>\n",
              "      <td>Ser</td>\n",
              "      <td>0</td>\n",
              "      <td>NaN</td>\n",
              "      <td>NaN</td>\n",
              "      <td>NaN</td>\n",
              "      <td>NaN</td>\n",
              "      <td>NaN</td>\n",
              "      <td>Kingsguard</td>\n",
              "      <td>NaN</td>\n",
              "      <td>...</td>\n",
              "      <td>NaN</td>\n",
              "      <td>NaN</td>\n",
              "      <td>NaN</td>\n",
              "      <td>NaN</td>\n",
              "      <td>0</td>\n",
              "      <td>1</td>\n",
              "      <td>NaN</td>\n",
              "      <td>0</td>\n",
              "      <td>0.003344</td>\n",
              "      <td>1</td>\n",
              "    </tr>\n",
              "  </tbody>\n",
              "</table>\n",
              "<p>10 rows × 25 columns</p>\n",
              "</div>\n",
              "    <div class=\"colab-df-buttons\">\n",
              "\n",
              "  <div class=\"colab-df-container\">\n",
              "    <button class=\"colab-df-convert\" onclick=\"convertToInteractive('df-fb2415a6-1b47-4a81-bc1f-6466b5cce435')\"\n",
              "            title=\"Convert this dataframe to an interactive table.\"\n",
              "            style=\"display:none;\">\n",
              "\n",
              "  <svg xmlns=\"http://www.w3.org/2000/svg\" height=\"24px\" viewBox=\"0 -960 960 960\">\n",
              "    <path d=\"M120-120v-720h720v720H120Zm60-500h600v-160H180v160Zm220 220h160v-160H400v160Zm0 220h160v-160H400v160ZM180-400h160v-160H180v160Zm440 0h160v-160H620v160ZM180-180h160v-160H180v160Zm440 0h160v-160H620v160Z\"/>\n",
              "  </svg>\n",
              "    </button>\n",
              "\n",
              "  <style>\n",
              "    .colab-df-container {\n",
              "      display:flex;\n",
              "      gap: 12px;\n",
              "    }\n",
              "\n",
              "    .colab-df-convert {\n",
              "      background-color: #E8F0FE;\n",
              "      border: none;\n",
              "      border-radius: 50%;\n",
              "      cursor: pointer;\n",
              "      display: none;\n",
              "      fill: #1967D2;\n",
              "      height: 32px;\n",
              "      padding: 0 0 0 0;\n",
              "      width: 32px;\n",
              "    }\n",
              "\n",
              "    .colab-df-convert:hover {\n",
              "      background-color: #E2EBFA;\n",
              "      box-shadow: 0px 1px 2px rgba(60, 64, 67, 0.3), 0px 1px 3px 1px rgba(60, 64, 67, 0.15);\n",
              "      fill: #174EA6;\n",
              "    }\n",
              "\n",
              "    .colab-df-buttons div {\n",
              "      margin-bottom: 4px;\n",
              "    }\n",
              "\n",
              "    [theme=dark] .colab-df-convert {\n",
              "      background-color: #3B4455;\n",
              "      fill: #D2E3FC;\n",
              "    }\n",
              "\n",
              "    [theme=dark] .colab-df-convert:hover {\n",
              "      background-color: #434B5C;\n",
              "      box-shadow: 0px 1px 3px 1px rgba(0, 0, 0, 0.15);\n",
              "      filter: drop-shadow(0px 1px 2px rgba(0, 0, 0, 0.3));\n",
              "      fill: #FFFFFF;\n",
              "    }\n",
              "  </style>\n",
              "\n",
              "    <script>\n",
              "      const buttonEl =\n",
              "        document.querySelector('#df-fb2415a6-1b47-4a81-bc1f-6466b5cce435 button.colab-df-convert');\n",
              "      buttonEl.style.display =\n",
              "        google.colab.kernel.accessAllowed ? 'block' : 'none';\n",
              "\n",
              "      async function convertToInteractive(key) {\n",
              "        const element = document.querySelector('#df-fb2415a6-1b47-4a81-bc1f-6466b5cce435');\n",
              "        const dataTable =\n",
              "          await google.colab.kernel.invokeFunction('convertToInteractive',\n",
              "                                                    [key], {});\n",
              "        if (!dataTable) return;\n",
              "\n",
              "        const docLinkHtml = 'Like what you see? Visit the ' +\n",
              "          '<a target=\"_blank\" href=https://colab.research.google.com/notebooks/data_table.ipynb>data table notebook</a>'\n",
              "          + ' to learn more about interactive tables.';\n",
              "        element.innerHTML = '';\n",
              "        dataTable['output_type'] = 'display_data';\n",
              "        await google.colab.output.renderOutput(dataTable, element);\n",
              "        const docLink = document.createElement('div');\n",
              "        docLink.innerHTML = docLinkHtml;\n",
              "        element.appendChild(docLink);\n",
              "      }\n",
              "    </script>\n",
              "  </div>\n",
              "\n",
              "\n",
              "<div id=\"df-a29a1cf4-58ad-47ae-8d79-bad5e5e1c5fb\">\n",
              "  <button class=\"colab-df-quickchart\" onclick=\"quickchart('df-a29a1cf4-58ad-47ae-8d79-bad5e5e1c5fb')\"\n",
              "            title=\"Suggest charts\"\n",
              "            style=\"display:none;\">\n",
              "\n",
              "<svg xmlns=\"http://www.w3.org/2000/svg\" height=\"24px\"viewBox=\"0 0 24 24\"\n",
              "     width=\"24px\">\n",
              "    <g>\n",
              "        <path d=\"M19 3H5c-1.1 0-2 .9-2 2v14c0 1.1.9 2 2 2h14c1.1 0 2-.9 2-2V5c0-1.1-.9-2-2-2zM9 17H7v-7h2v7zm4 0h-2V7h2v10zm4 0h-2v-4h2v4z\"/>\n",
              "    </g>\n",
              "</svg>\n",
              "  </button>\n",
              "\n",
              "<style>\n",
              "  .colab-df-quickchart {\n",
              "      --bg-color: #E8F0FE;\n",
              "      --fill-color: #1967D2;\n",
              "      --hover-bg-color: #E2EBFA;\n",
              "      --hover-fill-color: #174EA6;\n",
              "      --disabled-fill-color: #AAA;\n",
              "      --disabled-bg-color: #DDD;\n",
              "  }\n",
              "\n",
              "  [theme=dark] .colab-df-quickchart {\n",
              "      --bg-color: #3B4455;\n",
              "      --fill-color: #D2E3FC;\n",
              "      --hover-bg-color: #434B5C;\n",
              "      --hover-fill-color: #FFFFFF;\n",
              "      --disabled-bg-color: #3B4455;\n",
              "      --disabled-fill-color: #666;\n",
              "  }\n",
              "\n",
              "  .colab-df-quickchart {\n",
              "    background-color: var(--bg-color);\n",
              "    border: none;\n",
              "    border-radius: 50%;\n",
              "    cursor: pointer;\n",
              "    display: none;\n",
              "    fill: var(--fill-color);\n",
              "    height: 32px;\n",
              "    padding: 0;\n",
              "    width: 32px;\n",
              "  }\n",
              "\n",
              "  .colab-df-quickchart:hover {\n",
              "    background-color: var(--hover-bg-color);\n",
              "    box-shadow: 0 1px 2px rgba(60, 64, 67, 0.3), 0 1px 3px 1px rgba(60, 64, 67, 0.15);\n",
              "    fill: var(--button-hover-fill-color);\n",
              "  }\n",
              "\n",
              "  .colab-df-quickchart-complete:disabled,\n",
              "  .colab-df-quickchart-complete:disabled:hover {\n",
              "    background-color: var(--disabled-bg-color);\n",
              "    fill: var(--disabled-fill-color);\n",
              "    box-shadow: none;\n",
              "  }\n",
              "\n",
              "  .colab-df-spinner {\n",
              "    border: 2px solid var(--fill-color);\n",
              "    border-color: transparent;\n",
              "    border-bottom-color: var(--fill-color);\n",
              "    animation:\n",
              "      spin 1s steps(1) infinite;\n",
              "  }\n",
              "\n",
              "  @keyframes spin {\n",
              "    0% {\n",
              "      border-color: transparent;\n",
              "      border-bottom-color: var(--fill-color);\n",
              "      border-left-color: var(--fill-color);\n",
              "    }\n",
              "    20% {\n",
              "      border-color: transparent;\n",
              "      border-left-color: var(--fill-color);\n",
              "      border-top-color: var(--fill-color);\n",
              "    }\n",
              "    30% {\n",
              "      border-color: transparent;\n",
              "      border-left-color: var(--fill-color);\n",
              "      border-top-color: var(--fill-color);\n",
              "      border-right-color: var(--fill-color);\n",
              "    }\n",
              "    40% {\n",
              "      border-color: transparent;\n",
              "      border-right-color: var(--fill-color);\n",
              "      border-top-color: var(--fill-color);\n",
              "    }\n",
              "    60% {\n",
              "      border-color: transparent;\n",
              "      border-right-color: var(--fill-color);\n",
              "    }\n",
              "    80% {\n",
              "      border-color: transparent;\n",
              "      border-right-color: var(--fill-color);\n",
              "      border-bottom-color: var(--fill-color);\n",
              "    }\n",
              "    90% {\n",
              "      border-color: transparent;\n",
              "      border-bottom-color: var(--fill-color);\n",
              "    }\n",
              "  }\n",
              "</style>\n",
              "\n",
              "  <script>\n",
              "    async function quickchart(key) {\n",
              "      const quickchartButtonEl =\n",
              "        document.querySelector('#' + key + ' button');\n",
              "      quickchartButtonEl.disabled = true;  // To prevent multiple clicks.\n",
              "      quickchartButtonEl.classList.add('colab-df-spinner');\n",
              "      try {\n",
              "        const charts = await google.colab.kernel.invokeFunction(\n",
              "            'suggestCharts', [key], {});\n",
              "      } catch (error) {\n",
              "        console.error('Error during call to suggestCharts:', error);\n",
              "      }\n",
              "      quickchartButtonEl.classList.remove('colab-df-spinner');\n",
              "      quickchartButtonEl.classList.add('colab-df-quickchart-complete');\n",
              "    }\n",
              "    (() => {\n",
              "      let quickchartButtonEl =\n",
              "        document.querySelector('#df-a29a1cf4-58ad-47ae-8d79-bad5e5e1c5fb button');\n",
              "      quickchartButtonEl.style.display =\n",
              "        google.colab.kernel.accessAllowed ? 'block' : 'none';\n",
              "    })();\n",
              "  </script>\n",
              "</div>\n",
              "\n",
              "    </div>\n",
              "  </div>\n"
            ],
            "application/vnd.google.colaboratory.intrinsic+json": {
              "type": "dataframe"
            }
          },
          "metadata": {},
          "execution_count": 120
        }
      ]
    },
    {
      "cell_type": "markdown",
      "source": [
        "Data preprocessing and NaN detection"
      ],
      "metadata": {
        "id": "fwTWCA3UQvcn"
      }
    },
    {
      "cell_type": "code",
      "source": [
        "data.columns"
      ],
      "metadata": {
        "colab": {
          "base_uri": "https://localhost:8080/"
        },
        "id": "PYWv7UMpQ20S",
        "outputId": "fb588f69-060a-4a6d-c553-a8bdada1da38"
      },
      "execution_count": null,
      "outputs": [
        {
          "output_type": "execute_result",
          "data": {
            "text/plain": [
              "Index(['name', 'title', 'male', 'culture', 'dateOfBirth', 'mother', 'father',\n",
              "       'heir', 'house', 'spouse', 'book1', 'book2', 'book3', 'book4', 'book5',\n",
              "       'isAliveMother', 'isAliveFather', 'isAliveHeir', 'isAliveSpouse',\n",
              "       'isMarried', 'isNoble', 'age', 'numDeadRelations', 'popularity',\n",
              "       'isAlive'],\n",
              "      dtype='object')"
            ]
          },
          "metadata": {},
          "execution_count": 121
        }
      ]
    },
    {
      "cell_type": "code",
      "source": [
        "data.isna().sum()"
      ],
      "metadata": {
        "colab": {
          "base_uri": "https://localhost:8080/",
          "height": 868
        },
        "id": "A4FBjK4dQ_Sw",
        "outputId": "ca7c0ea1-f66d-4099-abcc-8cc623d23ee5"
      },
      "execution_count": null,
      "outputs": [
        {
          "output_type": "execute_result",
          "data": {
            "text/plain": [
              "name                   0\n",
              "title                840\n",
              "male                   0\n",
              "culture             1069\n",
              "dateOfBirth         1278\n",
              "mother              1539\n",
              "father              1535\n",
              "heir                1536\n",
              "house                381\n",
              "spouse              1357\n",
              "book1                  0\n",
              "book2                  0\n",
              "book3                  0\n",
              "book4                  0\n",
              "book5                  0\n",
              "isAliveMother       1539\n",
              "isAliveFather       1535\n",
              "isAliveHeir         1536\n",
              "isAliveSpouse       1357\n",
              "isMarried              0\n",
              "isNoble                0\n",
              "age                 1278\n",
              "numDeadRelations       0\n",
              "popularity             0\n",
              "isAlive                0\n",
              "dtype: int64"
            ],
            "text/html": [
              "<div>\n",
              "<style scoped>\n",
              "    .dataframe tbody tr th:only-of-type {\n",
              "        vertical-align: middle;\n",
              "    }\n",
              "\n",
              "    .dataframe tbody tr th {\n",
              "        vertical-align: top;\n",
              "    }\n",
              "\n",
              "    .dataframe thead th {\n",
              "        text-align: right;\n",
              "    }\n",
              "</style>\n",
              "<table border=\"1\" class=\"dataframe\">\n",
              "  <thead>\n",
              "    <tr style=\"text-align: right;\">\n",
              "      <th></th>\n",
              "      <th>0</th>\n",
              "    </tr>\n",
              "  </thead>\n",
              "  <tbody>\n",
              "    <tr>\n",
              "      <th>name</th>\n",
              "      <td>0</td>\n",
              "    </tr>\n",
              "    <tr>\n",
              "      <th>title</th>\n",
              "      <td>840</td>\n",
              "    </tr>\n",
              "    <tr>\n",
              "      <th>male</th>\n",
              "      <td>0</td>\n",
              "    </tr>\n",
              "    <tr>\n",
              "      <th>culture</th>\n",
              "      <td>1069</td>\n",
              "    </tr>\n",
              "    <tr>\n",
              "      <th>dateOfBirth</th>\n",
              "      <td>1278</td>\n",
              "    </tr>\n",
              "    <tr>\n",
              "      <th>mother</th>\n",
              "      <td>1539</td>\n",
              "    </tr>\n",
              "    <tr>\n",
              "      <th>father</th>\n",
              "      <td>1535</td>\n",
              "    </tr>\n",
              "    <tr>\n",
              "      <th>heir</th>\n",
              "      <td>1536</td>\n",
              "    </tr>\n",
              "    <tr>\n",
              "      <th>house</th>\n",
              "      <td>381</td>\n",
              "    </tr>\n",
              "    <tr>\n",
              "      <th>spouse</th>\n",
              "      <td>1357</td>\n",
              "    </tr>\n",
              "    <tr>\n",
              "      <th>book1</th>\n",
              "      <td>0</td>\n",
              "    </tr>\n",
              "    <tr>\n",
              "      <th>book2</th>\n",
              "      <td>0</td>\n",
              "    </tr>\n",
              "    <tr>\n",
              "      <th>book3</th>\n",
              "      <td>0</td>\n",
              "    </tr>\n",
              "    <tr>\n",
              "      <th>book4</th>\n",
              "      <td>0</td>\n",
              "    </tr>\n",
              "    <tr>\n",
              "      <th>book5</th>\n",
              "      <td>0</td>\n",
              "    </tr>\n",
              "    <tr>\n",
              "      <th>isAliveMother</th>\n",
              "      <td>1539</td>\n",
              "    </tr>\n",
              "    <tr>\n",
              "      <th>isAliveFather</th>\n",
              "      <td>1535</td>\n",
              "    </tr>\n",
              "    <tr>\n",
              "      <th>isAliveHeir</th>\n",
              "      <td>1536</td>\n",
              "    </tr>\n",
              "    <tr>\n",
              "      <th>isAliveSpouse</th>\n",
              "      <td>1357</td>\n",
              "    </tr>\n",
              "    <tr>\n",
              "      <th>isMarried</th>\n",
              "      <td>0</td>\n",
              "    </tr>\n",
              "    <tr>\n",
              "      <th>isNoble</th>\n",
              "      <td>0</td>\n",
              "    </tr>\n",
              "    <tr>\n",
              "      <th>age</th>\n",
              "      <td>1278</td>\n",
              "    </tr>\n",
              "    <tr>\n",
              "      <th>numDeadRelations</th>\n",
              "      <td>0</td>\n",
              "    </tr>\n",
              "    <tr>\n",
              "      <th>popularity</th>\n",
              "      <td>0</td>\n",
              "    </tr>\n",
              "    <tr>\n",
              "      <th>isAlive</th>\n",
              "      <td>0</td>\n",
              "    </tr>\n",
              "  </tbody>\n",
              "</table>\n",
              "</div><br><label><b>dtype:</b> int64</label>"
            ]
          },
          "metadata": {},
          "execution_count": 122
        }
      ]
    },
    {
      "cell_type": "code",
      "source": [
        "data.drop(columns=['mother', 'father', 'heir', 'isAliveMother', 'isAliveFather', 'isAliveHeir', 'spouse', 'isAliveSpouse'], inplace=True)\n",
        "# Dropping non-informative columns with too many NaN values"
      ],
      "metadata": {
        "id": "G6fmxZU1Q4dz"
      },
      "execution_count": null,
      "outputs": []
    },
    {
      "cell_type": "markdown",
      "source": [
        "Now let's handle the NaN:"
      ],
      "metadata": {
        "id": "m1-vQOr6RVHE"
      }
    },
    {
      "cell_type": "code",
      "source": [
        "# For 'Title' column we replace NaN values with a new one\n",
        "data['title'] = data['title'].fillna('loser')\n",
        "\n",
        "# Then all the rare titles are going to be combined into new value 'rare'\n",
        "data.loc[data['title'].value_counts()[data['title']].values < 30, 'title'] = \"rare\"\n",
        "\n",
        "# Same approach for 'Home'\n",
        "data['house'] = data['house'].fillna('homeless')\n",
        "data.loc[data['house'].value_counts()[data['house']].values < 30, 'house'] = \"rare\"\n",
        "\n",
        "# Culture, age and dateOfBirth we'll just replace with mode\n",
        "data['culture'].fillna(data['culture'].mode()[0], inplace=True)\n",
        "\n",
        "# Numerical values we'll fill with 0\n",
        "data['age'].fillna(0, inplace=True)\n",
        "data['dateOfBirth'].fillna(0, inplace=True)"
      ],
      "metadata": {
        "colab": {
          "base_uri": "https://localhost:8080/"
        },
        "id": "Y_GevUCeRUbb",
        "outputId": "cf4aa90c-660c-4eaf-ae43-6b01bc98f506",
        "collapsed": true
      },
      "execution_count": null,
      "outputs": [
        {
          "output_type": "stream",
          "name": "stderr",
          "text": [
            "<ipython-input-124-22dc5cd3cb06>:12: FutureWarning: A value is trying to be set on a copy of a DataFrame or Series through chained assignment using an inplace method.\n",
            "The behavior will change in pandas 3.0. This inplace method will never work because the intermediate object on which we are setting values always behaves as a copy.\n",
            "\n",
            "For example, when doing 'df[col].method(value, inplace=True)', try using 'df.method({col: value}, inplace=True)' or df[col] = df[col].method(value) instead, to perform the operation inplace on the original object.\n",
            "\n",
            "\n",
            "  data['culture'].fillna(data['culture'].mode()[0], inplace=True)\n",
            "<ipython-input-124-22dc5cd3cb06>:15: FutureWarning: A value is trying to be set on a copy of a DataFrame or Series through chained assignment using an inplace method.\n",
            "The behavior will change in pandas 3.0. This inplace method will never work because the intermediate object on which we are setting values always behaves as a copy.\n",
            "\n",
            "For example, when doing 'df[col].method(value, inplace=True)', try using 'df.method({col: value}, inplace=True)' or df[col] = df[col].method(value) instead, to perform the operation inplace on the original object.\n",
            "\n",
            "\n",
            "  data['age'].fillna(0, inplace=True)\n",
            "<ipython-input-124-22dc5cd3cb06>:16: FutureWarning: A value is trying to be set on a copy of a DataFrame or Series through chained assignment using an inplace method.\n",
            "The behavior will change in pandas 3.0. This inplace method will never work because the intermediate object on which we are setting values always behaves as a copy.\n",
            "\n",
            "For example, when doing 'df[col].method(value, inplace=True)', try using 'df.method({col: value}, inplace=True)' or df[col] = df[col].method(value) instead, to perform the operation inplace on the original object.\n",
            "\n",
            "\n",
            "  data['dateOfBirth'].fillna(0, inplace=True)\n"
          ]
        }
      ]
    },
    {
      "cell_type": "markdown",
      "source": [
        "Now let's create new features:"
      ],
      "metadata": {
        "id": "sFoyaa4-R6lj"
      }
    },
    {
      "cell_type": "code",
      "source": [
        "# Bool column 'isPopular', showing is the character popular or not, threshold is 0.5\n",
        "data['isPopular'] = data['popularity'] > 0.5\n",
        "data['isPopular'] = data['isPopular'].astype(int)"
      ],
      "metadata": {
        "id": "rg_O9L1GSHPI"
      },
      "execution_count": null,
      "outputs": []
    },
    {
      "cell_type": "code",
      "source": [
        "# Same approach for 'numDeadRelations'\n",
        "data['boolDeadRelations'] = data['numDeadRelations'] > 0\n",
        "data['boolDeadRelations'] = data['boolDeadRelations'].astype(int)"
      ],
      "metadata": {
        "id": "62zFdO9rSVQW"
      },
      "execution_count": null,
      "outputs": []
    },
    {
      "cell_type": "code",
      "source": [
        "# Getting rid of old features\n",
        "data.drop(columns=['name', 'numDeadRelations', 'popularity'], inplace = True)"
      ],
      "metadata": {
        "id": "xP9yFicISpj_"
      },
      "execution_count": null,
      "outputs": []
    },
    {
      "cell_type": "markdown",
      "source": [
        "Let's also unify the `Culture` column, merging similar values under single one:"
      ],
      "metadata": {
        "id": "RacGmb5USxyk"
      }
    },
    {
      "cell_type": "code",
      "source": [
        "# Dictionary with deciphering\n",
        "cult = {\n",
        "    'Summer Islands': ['summer islands', 'summer islander', 'summer isles'],\n",
        "    'Ghiscari': ['ghiscari', 'ghiscaricari',  'ghis'],\n",
        "    'Asshai': [\"asshai'i\", 'asshai'],\n",
        "    'Lysene': ['lysene', 'lyseni'],\n",
        "    'Andal': ['andal', 'andals'],\n",
        "    'Braavosi': ['braavosi', 'braavos'],\n",
        "    'Dornish': ['dornishmen', 'dorne', 'dornish'],\n",
        "    'Myrish': ['myr', 'myrish', 'myrmen'],\n",
        "    'Westermen': ['westermen', 'westerman', 'westerlands'],\n",
        "    'Westerosi': ['westeros', 'westerosi'],\n",
        "    'Stormlander': ['stormlands', 'stormlander'],\n",
        "    'Norvoshi': ['norvos', 'norvoshi'],\n",
        "    'Northmen': ['the north', 'northmen'],\n",
        "    'Free Folk': ['wildling', 'first men', 'free folk'],\n",
        "    'Qartheen': ['qartheen', 'qarth'],\n",
        "    'Reach': ['the reach', 'reach', 'reachmen'],\n",
        "}\n",
        "\n",
        "# String expression for replacement\n",
        "cult_map = {v: k for k, values in cult.items() for v in values}\n",
        "data['culture'] = data['culture'].replace(cult_map)"
      ],
      "metadata": {
        "id": "MHwYtaiWSwN9"
      },
      "execution_count": null,
      "outputs": []
    },
    {
      "cell_type": "markdown",
      "source": [
        "Also, it's better to numerically encode categorial features:"
      ],
      "metadata": {
        "id": "j9aChuo40vL3"
      }
    },
    {
      "cell_type": "code",
      "source": [
        "from sklearn.preprocessing import LabelEncoder\n",
        "label_encoder = LabelEncoder()\n",
        "data['culture'] = label_encoder.fit_transform(data['culture'])\n",
        "data['house'] = label_encoder.fit_transform(data['house'])\n",
        "data['title'] = label_encoder.fit_transform(data['title'])"
      ],
      "metadata": {
        "id": "mIkEsQ4u0uww"
      },
      "execution_count": null,
      "outputs": []
    },
    {
      "cell_type": "markdown",
      "source": [
        "Now let's take a look at the target variable:"
      ],
      "metadata": {
        "id": "7l_pvctgzX3z"
      }
    },
    {
      "cell_type": "code",
      "source": [
        "sns.set_style(\"whitegrid\")\n",
        "plt.figure(figsize=(6,6))\n",
        "plt.pie(data['isAlive'].value_counts(), labels=[0, 1], autopct='%1.1f%%')\n",
        "plt.show()"
      ],
      "metadata": {
        "colab": {
          "base_uri": "https://localhost:8080/",
          "height": 499
        },
        "id": "NPqzksKkzb9z",
        "outputId": "08d62f9f-da2e-4823-ed51-a198cfcbc981"
      },
      "execution_count": null,
      "outputs": [
        {
          "output_type": "display_data",
          "data": {
            "text/plain": [
              "<Figure size 600x600 with 1 Axes>"
            ],
            "image/png": "[encoded data removed]"
          },
          "metadata": {}
        }
      ]
    },
    {
      "cell_type": "markdown",
      "source": [
        "We can see that it's disbalanced, but not enough to apply relatable techniques,\n",
        "like over/undersampling, model ensembling or class weighting"
      ],
      "metadata": {
        "id": "LUb0QprQz2MT"
      }
    },
    {
      "cell_type": "markdown",
      "source": [
        "Here we're evaluating the correlation between features:"
      ],
      "metadata": {
        "id": "rSBO4Xja05Cr"
      }
    },
    {
      "cell_type": "code",
      "source": [
        "corr_matrix = data.corr()\n",
        "\n",
        "top_n = 20\n",
        "top_features = corr_matrix['isAlive'].abs().sort_values(ascending=False).index[1:top_n + 1]\n",
        "\n",
        "plt.figure(figsize=(10, 8))\n",
        "sns.heatmap(corr_matrix.loc[top_features, top_features], annot=True, cmap='coolwarm', fmt=\".2f\")\n",
        "plt.title(f'Top {top_n} Correlated Features')\n",
        "plt.show()\n",
        "\n",
        "#"
      ],
      "metadata": {
        "colab": {
          "base_uri": "https://localhost:8080/",
          "height": 815
        },
        "id": "yFjCpc2_1RLq",
        "outputId": "58aded06-b123-475d-ad65-05ff6d8a518a"
      },
      "execution_count": null,
      "outputs": [
        {
          "output_type": "display_data",
          "data": {
            "text/plain": [
              "<Figure size 1000x800 with 2 Axes>"
            ],
            "image/png": "[encoded data removed]"
          },
          "metadata": {}
        }
      ]
    },
    {
      "cell_type": "markdown",
      "source": [
        "And here their influence on target value:"
      ],
      "metadata": {
        "id": "wQZda6hE1SQf"
      }
    },
    {
      "cell_type": "code",
      "source": [
        "correlation = data.corr()['isAlive'].sort_values(ascending=False)\n",
        "print(correlation)"
      ],
      "metadata": {
        "colab": {
          "base_uri": "https://localhost:8080/"
        },
        "id": "3o715faB1S3K",
        "outputId": "b96775df-6931-4289-c63b-a00bfbb14730"
      },
      "execution_count": null,
      "outputs": [
        {
          "output_type": "stream",
          "name": "stdout",
          "text": [
            "isAlive              1.000000\n",
            "book4                0.284014\n",
            "house                0.040786\n",
            "book5                0.032531\n",
            "book3                0.018427\n",
            "dateOfBirth         -0.027024\n",
            "title               -0.036035\n",
            "isMarried           -0.049381\n",
            "book2               -0.055998\n",
            "isNoble             -0.060572\n",
            "book1               -0.112468\n",
            "isPopular           -0.118673\n",
            "culture             -0.132554\n",
            "male                -0.148290\n",
            "boolDeadRelations   -0.178177\n",
            "age                 -0.181938\n",
            "Name: isAlive, dtype: float64\n"
          ]
        }
      ]
    },
    {
      "cell_type": "markdown",
      "source": [
        "From two bullets above we can imply that:\n",
        "* `dateOfBirth` has strong influence on `isAlive`\n",
        "* `age` and `dateOfBirth` are quite strongly correlated\n",
        "* other variables influence target column way less\n",
        "\n",
        "Thus, it may be valuable to:\n",
        "* make a new feature, combined of those 2\n",
        "* remove unnecessary features"
      ],
      "metadata": {
        "id": "Bkl_LQDU1sh3"
      }
    },
    {
      "cell_type": "markdown",
      "source": [
        "Let's start from the new column `alive_age_date`:"
      ],
      "metadata": {
        "id": "zSj25MWG3F6-"
      }
    },
    {
      "cell_type": "code",
      "source": [
        "data['alive_age_date'] = (data['dateOfBirth'] + data['age']) > 304.9\n",
        "data['alive_age_date'] = data['alive_age_date'].astype(int)\n",
        "#because the current year according to the data description is 305"
      ],
      "metadata": {
        "id": "5nXwFwkz3FZh"
      },
      "execution_count": null,
      "outputs": []
    },
    {
      "cell_type": "markdown",
      "source": [
        "Now let's drop irrelevant features:"
      ],
      "metadata": {
        "id": "tzWVjemt4xL8"
      }
    },
    {
      "cell_type": "code",
      "source": [
        "data = data.drop(columns=['title', 'male', 'culture', 'house', 'book1', 'book2',\n",
        "       'book3', 'book4', 'book5', 'isMarried', 'isNoble',\n",
        "       'isPopular', 'boolDeadRelations'])"
      ],
      "metadata": {
        "id": "ugVfdqJC4_eB"
      },
      "execution_count": null,
      "outputs": []
    },
    {
      "cell_type": "markdown",
      "source": [
        "Aesthetical changes:"
      ],
      "metadata": {
        "id": "tvGRaia9_bDY"
      }
    },
    {
      "cell_type": "code",
      "source": [
        "data = data.reindex(columns=['dateOfBirth', 'age', 'alive_age_date', 'isAlive'])"
      ],
      "metadata": {
        "id": "V1FwVwop7N25"
      },
      "execution_count": null,
      "outputs": []
    },
    {
      "cell_type": "markdown",
      "source": [
        "Now, the final DataFrame looks like:"
      ],
      "metadata": {
        "id": "dZNPbHYx_iqz"
      }
    },
    {
      "cell_type": "code",
      "source": [
        "data.sample(5)"
      ],
      "metadata": {
        "colab": {
          "base_uri": "https://localhost:8080/",
          "height": 237
        },
        "id": "E30fucFk3C_y",
        "outputId": "84c82ef9-f58f-4aed-895e-b24ad4837ef7"
      },
      "execution_count": null,
      "outputs": [
        {
          "output_type": "execute_result",
          "data": {
            "text/plain": [
              "      dateOfBirth   age  alive_age_date  isAlive\n",
              "S.No                                            \n",
              "550           0.0   0.0               0        1\n",
              "310           0.0   0.0               0        1\n",
              "1109        230.0  75.0               1        1\n",
              "738           0.0   0.0               0        1\n",
              "761           0.0   0.0               0        1"
            ],
            "text/html": [
              "\n",
              "  <div id=\"df-0d9b0356-c277-48cf-951a-e99b8cb56c6e\" class=\"colab-df-container\">\n",
              "    <div>\n",
              "<style scoped>\n",
              "    .dataframe tbody tr th:only-of-type {\n",
              "        vertical-align: middle;\n",
              "    }\n",
              "\n",
              "    .dataframe tbody tr th {\n",
              "        vertical-align: top;\n",
              "    }\n",
              "\n",
              "    .dataframe thead th {\n",
              "        text-align: right;\n",
              "    }\n",
              "</style>\n",
              "<table border=\"1\" class=\"dataframe\">\n",
              "  <thead>\n",
              "    <tr style=\"text-align: right;\">\n",
              "      <th></th>\n",
              "      <th>dateOfBirth</th>\n",
              "      <th>age</th>\n",
              "      <th>alive_age_date</th>\n",
              "      <th>isAlive</th>\n",
              "    </tr>\n",
              "    <tr>\n",
              "      <th>S.No</th>\n",
              "      <th></th>\n",
              "      <th></th>\n",
              "      <th></th>\n",
              "      <th></th>\n",
              "    </tr>\n",
              "  </thead>\n",
              "  <tbody>\n",
              "    <tr>\n",
              "      <th>550</th>\n",
              "      <td>0.0</td>\n",
              "      <td>0.0</td>\n",
              "      <td>0</td>\n",
              "      <td>1</td>\n",
              "    </tr>\n",
              "    <tr>\n",
              "      <th>310</th>\n",
              "      <td>0.0</td>\n",
              "      <td>0.0</td>\n",
              "      <td>0</td>\n",
              "      <td>1</td>\n",
              "    </tr>\n",
              "    <tr>\n",
              "      <th>1109</th>\n",
              "      <td>230.0</td>\n",
              "      <td>75.0</td>\n",
              "      <td>1</td>\n",
              "      <td>1</td>\n",
              "    </tr>\n",
              "    <tr>\n",
              "      <th>738</th>\n",
              "      <td>0.0</td>\n",
              "      <td>0.0</td>\n",
              "      <td>0</td>\n",
              "      <td>1</td>\n",
              "    </tr>\n",
              "    <tr>\n",
              "      <th>761</th>\n",
              "      <td>0.0</td>\n",
              "      <td>0.0</td>\n",
              "      <td>0</td>\n",
              "      <td>1</td>\n",
              "    </tr>\n",
              "  </tbody>\n",
              "</table>\n",
              "</div>\n",
              "    <div class=\"colab-df-buttons\">\n",
              "\n",
              "  <div class=\"colab-df-container\">\n",
              "    <button class=\"colab-df-convert\" onclick=\"convertToInteractive('df-0d9b0356-c277-48cf-951a-e99b8cb56c6e')\"\n",
              "            title=\"Convert this dataframe to an interactive table.\"\n",
              "            style=\"display:none;\">\n",
              "\n",
              "  <svg xmlns=\"http://www.w3.org/2000/svg\" height=\"24px\" viewBox=\"0 -960 960 960\">\n",
              "    <path d=\"M120-120v-720h720v720H120Zm60-500h600v-160H180v160Zm220 220h160v-160H400v160Zm0 220h160v-160H400v160ZM180-400h160v-160H180v160Zm440 0h160v-160H620v160ZM180-180h160v-160H180v160Zm440 0h160v-160H620v160Z\"/>\n",
              "  </svg>\n",
              "    </button>\n",
              "\n",
              "  <style>\n",
              "    .colab-df-container {\n",
              "      display:flex;\n",
              "      gap: 12px;\n",
              "    }\n",
              "\n",
              "    .colab-df-convert {\n",
              "      background-color: #E8F0FE;\n",
              "      border: none;\n",
              "      border-radius: 50%;\n",
              "      cursor: pointer;\n",
              "      display: none;\n",
              "      fill: #1967D2;\n",
              "      height: 32px;\n",
              "      padding: 0 0 0 0;\n",
              "      width: 32px;\n",
              "    }\n",
              "\n",
              "    .colab-df-convert:hover {\n",
              "      background-color: #E2EBFA;\n",
              "      box-shadow: 0px 1px 2px rgba(60, 64, 67, 0.3), 0px 1px 3px 1px rgba(60, 64, 67, 0.15);\n",
              "      fill: #174EA6;\n",
              "    }\n",
              "\n",
              "    .colab-df-buttons div {\n",
              "      margin-bottom: 4px;\n",
              "    }\n",
              "\n",
              "    [theme=dark] .colab-df-convert {\n",
              "      background-color: #3B4455;\n",
              "      fill: #D2E3FC;\n",
              "    }\n",
              "\n",
              "    [theme=dark] .colab-df-convert:hover {\n",
              "      background-color: #434B5C;\n",
              "      box-shadow: 0px 1px 3px 1px rgba(0, 0, 0, 0.15);\n",
              "      filter: drop-shadow(0px 1px 2px rgba(0, 0, 0, 0.3));\n",
              "      fill: #FFFFFF;\n",
              "    }\n",
              "  </style>\n",
              "\n",
              "    <script>\n",
              "      const buttonEl =\n",
              "        document.querySelector('#df-0d9b0356-c277-48cf-951a-e99b8cb56c6e button.colab-df-convert');\n",
              "      buttonEl.style.display =\n",
              "        google.colab.kernel.accessAllowed ? 'block' : 'none';\n",
              "\n",
              "      async function convertToInteractive(key) {\n",
              "        const element = document.querySelector('#df-0d9b0356-c277-48cf-951a-e99b8cb56c6e');\n",
              "        const dataTable =\n",
              "          await google.colab.kernel.invokeFunction('convertToInteractive',\n",
              "                                                    [key], {});\n",
              "        if (!dataTable) return;\n",
              "\n",
              "        const docLinkHtml = 'Like what you see? Visit the ' +\n",
              "          '<a target=\"_blank\" href=https://colab.research.google.com/notebooks/data_table.ipynb>data table notebook</a>'\n",
              "          + ' to learn more about interactive tables.';\n",
              "        element.innerHTML = '';\n",
              "        dataTable['output_type'] = 'display_data';\n",
              "        await google.colab.output.renderOutput(dataTable, element);\n",
              "        const docLink = document.createElement('div');\n",
              "        docLink.innerHTML = docLinkHtml;\n",
              "        element.appendChild(docLink);\n",
              "      }\n",
              "    </script>\n",
              "  </div>\n",
              "\n",
              "\n",
              "<div id=\"df-846d9661-8c50-41f1-a60c-41f1d29be356\">\n",
              "  <button class=\"colab-df-quickchart\" onclick=\"quickchart('df-846d9661-8c50-41f1-a60c-41f1d29be356')\"\n",
              "            title=\"Suggest charts\"\n",
              "            style=\"display:none;\">\n",
              "\n",
              "<svg xmlns=\"http://www.w3.org/2000/svg\" height=\"24px\"viewBox=\"0 0 24 24\"\n",
              "     width=\"24px\">\n",
              "    <g>\n",
              "        <path d=\"M19 3H5c-1.1 0-2 .9-2 2v14c0 1.1.9 2 2 2h14c1.1 0 2-.9 2-2V5c0-1.1-.9-2-2-2zM9 17H7v-7h2v7zm4 0h-2V7h2v10zm4 0h-2v-4h2v4z\"/>\n",
              "    </g>\n",
              "</svg>\n",
              "  </button>\n",
              "\n",
              "<style>\n",
              "  .colab-df-quickchart {\n",
              "      --bg-color: #E8F0FE;\n",
              "      --fill-color: #1967D2;\n",
              "      --hover-bg-color: #E2EBFA;\n",
              "      --hover-fill-color: #174EA6;\n",
              "      --disabled-fill-color: #AAA;\n",
              "      --disabled-bg-color: #DDD;\n",
              "  }\n",
              "\n",
              "  [theme=dark] .colab-df-quickchart {\n",
              "      --bg-color: #3B4455;\n",
              "      --fill-color: #D2E3FC;\n",
              "      --hover-bg-color: #434B5C;\n",
              "      --hover-fill-color: #FFFFFF;\n",
              "      --disabled-bg-color: #3B4455;\n",
              "      --disabled-fill-color: #666;\n",
              "  }\n",
              "\n",
              "  .colab-df-quickchart {\n",
              "    background-color: var(--bg-color);\n",
              "    border: none;\n",
              "    border-radius: 50%;\n",
              "    cursor: pointer;\n",
              "    display: none;\n",
              "    fill: var(--fill-color);\n",
              "    height: 32px;\n",
              "    padding: 0;\n",
              "    width: 32px;\n",
              "  }\n",
              "\n",
              "  .colab-df-quickchart:hover {\n",
              "    background-color: var(--hover-bg-color);\n",
              "    box-shadow: 0 1px 2px rgba(60, 64, 67, 0.3), 0 1px 3px 1px rgba(60, 64, 67, 0.15);\n",
              "    fill: var(--button-hover-fill-color);\n",
              "  }\n",
              "\n",
              "  .colab-df-quickchart-complete:disabled,\n",
              "  .colab-df-quickchart-complete:disabled:hover {\n",
              "    background-color: var(--disabled-bg-color);\n",
              "    fill: var(--disabled-fill-color);\n",
              "    box-shadow: none;\n",
              "  }\n",
              "\n",
              "  .colab-df-spinner {\n",
              "    border: 2px solid var(--fill-color);\n",
              "    border-color: transparent;\n",
              "    border-bottom-color: var(--fill-color);\n",
              "    animation:\n",
              "      spin 1s steps(1) infinite;\n",
              "  }\n",
              "\n",
              "  @keyframes spin {\n",
              "    0% {\n",
              "      border-color: transparent;\n",
              "      border-bottom-color: var(--fill-color);\n",
              "      border-left-color: var(--fill-color);\n",
              "    }\n",
              "    20% {\n",
              "      border-color: transparent;\n",
              "      border-left-color: var(--fill-color);\n",
              "      border-top-color: var(--fill-color);\n",
              "    }\n",
              "    30% {\n",
              "      border-color: transparent;\n",
              "      border-left-color: var(--fill-color);\n",
              "      border-top-color: var(--fill-color);\n",
              "      border-right-color: var(--fill-color);\n",
              "    }\n",
              "    40% {\n",
              "      border-color: transparent;\n",
              "      border-right-color: var(--fill-color);\n",
              "      border-top-color: var(--fill-color);\n",
              "    }\n",
              "    60% {\n",
              "      border-color: transparent;\n",
              "      border-right-color: var(--fill-color);\n",
              "    }\n",
              "    80% {\n",
              "      border-color: transparent;\n",
              "      border-right-color: var(--fill-color);\n",
              "      border-bottom-color: var(--fill-color);\n",
              "    }\n",
              "    90% {\n",
              "      border-color: transparent;\n",
              "      border-bottom-color: var(--fill-color);\n",
              "    }\n",
              "  }\n",
              "</style>\n",
              "\n",
              "  <script>\n",
              "    async function quickchart(key) {\n",
              "      const quickchartButtonEl =\n",
              "        document.querySelector('#' + key + ' button');\n",
              "      quickchartButtonEl.disabled = true;  // To prevent multiple clicks.\n",
              "      quickchartButtonEl.classList.add('colab-df-spinner');\n",
              "      try {\n",
              "        const charts = await google.colab.kernel.invokeFunction(\n",
              "            'suggestCharts', [key], {});\n",
              "      } catch (error) {\n",
              "        console.error('Error during call to suggestCharts:', error);\n",
              "      }\n",
              "      quickchartButtonEl.classList.remove('colab-df-spinner');\n",
              "      quickchartButtonEl.classList.add('colab-df-quickchart-complete');\n",
              "    }\n",
              "    (() => {\n",
              "      let quickchartButtonEl =\n",
              "        document.querySelector('#df-846d9661-8c50-41f1-a60c-41f1d29be356 button');\n",
              "      quickchartButtonEl.style.display =\n",
              "        google.colab.kernel.accessAllowed ? 'block' : 'none';\n",
              "    })();\n",
              "  </script>\n",
              "</div>\n",
              "\n",
              "    </div>\n",
              "  </div>\n"
            ],
            "application/vnd.google.colaboratory.intrinsic+json": {
              "type": "dataframe",
              "summary": "{\n  \"name\": \"data\",\n  \"rows\": 5,\n  \"fields\": [\n    {\n      \"column\": \"S.No\",\n      \"properties\": {\n        \"dtype\": \"number\",\n        \"std\": 294,\n        \"min\": 310,\n        \"max\": 1109,\n        \"num_unique_values\": 5,\n        \"samples\": [\n          310,\n          761,\n          1109\n        ],\n        \"semantic_type\": \"\",\n        \"description\": \"\"\n      }\n    },\n    {\n      \"column\": \"dateOfBirth\",\n      \"properties\": {\n        \"dtype\": \"number\",\n        \"std\": 102.85912696499032,\n        \"min\": 0.0,\n        \"max\": 230.0,\n        \"num_unique_values\": 2,\n        \"samples\": [\n          230.0,\n          0.0\n        ],\n        \"semantic_type\": \"\",\n        \"description\": \"\"\n      }\n    },\n    {\n      \"column\": \"age\",\n      \"properties\": {\n        \"dtype\": \"number\",\n        \"std\": 33.54101966249684,\n        \"min\": 0.0,\n        \"max\": 75.0,\n        \"num_unique_values\": 2,\n        \"samples\": [\n          75.0,\n          0.0\n        ],\n        \"semantic_type\": \"\",\n        \"description\": \"\"\n      }\n    },\n    {\n      \"column\": \"alive_age_date\",\n      \"properties\": {\n        \"dtype\": \"number\",\n        \"std\": 0,\n        \"min\": 0,\n        \"max\": 1,\n        \"num_unique_values\": 2,\n        \"samples\": [\n          1,\n          0\n        ],\n        \"semantic_type\": \"\",\n        \"description\": \"\"\n      }\n    },\n    {\n      \"column\": \"isAlive\",\n      \"properties\": {\n        \"dtype\": \"number\",\n        \"std\": 0,\n        \"min\": 1,\n        \"max\": 1,\n        \"num_unique_values\": 1,\n        \"samples\": [\n          1\n        ],\n        \"semantic_type\": \"\",\n        \"description\": \"\"\n      }\n    }\n  ]\n}"
            }
          },
          "metadata": {},
          "execution_count": 136
        }
      ]
    },
    {
      "cell_type": "markdown",
      "source": [
        "## Part 2. Model building and evaluation\n"
      ],
      "metadata": {
        "id": "t9AlTvpy_sr1"
      }
    },
    {
      "cell_type": "markdown",
      "source": [
        "In order to find the best model, let's try various popular models:"
      ],
      "metadata": {
        "id": "2v_vR3g9_0l_"
      }
    },
    {
      "cell_type": "code",
      "source": [
        "from sklearn.model_selection import train_test_split\n",
        "from sklearn.metrics import accuracy_score\n",
        "from sklearn.linear_model import LogisticRegression\n",
        "from sklearn.ensemble import AdaBoostClassifier, RandomForestClassifier\n",
        "from sklearn.gaussian_process import GaussianProcessClassifier\n",
        "from sklearn.naive_bayes import GaussianNB\n",
        "from sklearn.neighbors import KNeighborsClassifier\n",
        "from sklearn.svm import SVC\n",
        "from sklearn.tree import DecisionTreeClassifier"
      ],
      "metadata": {
        "id": "05bJZE0G3w2q"
      },
      "execution_count": null,
      "outputs": []
    },
    {
      "cell_type": "markdown",
      "source": [
        "First, let's define feature tensor and target column:"
      ],
      "metadata": {
        "id": "yqP3eShQALny"
      }
    },
    {
      "cell_type": "code",
      "source": [
        "X = data.drop('isAlive', axis=1)\n",
        "y = data['isAlive']"
      ],
      "metadata": {
        "id": "iQofdTKX3wld"
      },
      "execution_count": null,
      "outputs": []
    },
    {
      "cell_type": "markdown",
      "source": [
        "Then make the train/test split in ratio 80:20"
      ],
      "metadata": {
        "id": "CVwQEP8IAqEp"
      }
    },
    {
      "cell_type": "code",
      "source": [
        "from sklearn.model_selection import train_test_split\n",
        "X_train, X_test, y_train, y_test = train_test_split(X, y, test_size=0.2, shuffle=True)"
      ],
      "metadata": {
        "id": "LlnKhFCQ_TGq"
      },
      "execution_count": null,
      "outputs": []
    },
    {
      "cell_type": "markdown",
      "source": [
        "Now let's build, train and evaluate prediction of models:"
      ],
      "metadata": {
        "id": "UTvuk1S6A2Ik"
      }
    },
    {
      "cell_type": "code",
      "source": [
        "model_accuracies = {}"
      ],
      "metadata": {
        "id": "UX2LISWAC3Va"
      },
      "execution_count": null,
      "outputs": []
    },
    {
      "cell_type": "code",
      "source": [
        "# Building the model\n",
        "logistic_regression = LogisticRegression(C=1)\n",
        "\n",
        "# Training the model\n",
        "logistic_regression.fit(X_train, y_train)\n",
        "\n",
        "# Model predition\n",
        "y_pred_lr = logistic_regression.predict(X_test)\n",
        "\n",
        "# Performance evaluation through accuracy:\n",
        "accuracy_lr = accuracy_score(y_test, y_pred_lr)\n",
        "model_accuracies['Logistic Regression'] = accuracy_lr\n",
        "print(\"Accuracy : %.4f\" % accuracy_lr)"
      ],
      "metadata": {
        "colab": {
          "base_uri": "https://localhost:8080/"
        },
        "id": "1kBHZayL_U60",
        "outputId": "641537c4-1777-4928-9af6-c1c20d1a266d"
      },
      "execution_count": null,
      "outputs": [
        {
          "output_type": "stream",
          "name": "stdout",
          "text": [
            "Accuracy : 0.8365\n"
          ]
        }
      ]
    },
    {
      "cell_type": "code",
      "source": [
        "# AdaBoost Classifier\n",
        "adaboost = AdaBoostClassifier()\n",
        "adaboost.fit(X_train, y_train)\n",
        "y_pred_ab = adaboost.predict(X_test)\n",
        "accuracy_ab = accuracy_score(y_test, y_pred_ab)\n",
        "model_accuracies['AdaBoost'] = accuracy_ab\n",
        "print(\"Accuracy : %.4f\" % accuracy_ab)"
      ],
      "metadata": {
        "colab": {
          "base_uri": "https://localhost:8080/"
        },
        "id": "l-CgM1OeC0tG",
        "outputId": "be7f6aea-3640-4eda-ef54-77e0eb324a77"
      },
      "execution_count": null,
      "outputs": [
        {
          "output_type": "stream",
          "name": "stdout",
          "text": [
            "Accuracy : 0.8397\n"
          ]
        }
      ]
    },
    {
      "cell_type": "code",
      "source": [
        "# Random Forest Classifier\n",
        "random_forest = RandomForestClassifier()\n",
        "random_forest.fit(X_train, y_train)\n",
        "y_pred_rf = random_forest.predict(X_test)\n",
        "accuracy_rf = accuracy_score(y_test, y_pred_rf)\n",
        "model_accuracies['Random Forest'] = accuracy_rf\n",
        "print(\"Accuracy : %.4f\" % accuracy_rf)"
      ],
      "metadata": {
        "colab": {
          "base_uri": "https://localhost:8080/"
        },
        "id": "ToiaQ65SDDaH",
        "outputId": "bcbcb934-0f8c-4b3a-b9bd-cfd80c0729c3"
      },
      "execution_count": null,
      "outputs": [
        {
          "output_type": "stream",
          "name": "stdout",
          "text": [
            "Accuracy : 0.8397\n"
          ]
        }
      ]
    },
    {
      "cell_type": "code",
      "source": [
        "# Gaussian Process Classifier\n",
        "gaussian_process = GaussianProcessClassifier()\n",
        "gaussian_process.fit(X_train, y_train)\n",
        "y_pred_gp = gaussian_process.predict(X_test)\n",
        "accuracy_gp = accuracy_score(y_test, y_pred_gp)\n",
        "model_accuracies['Gaussian Process'] = accuracy_gp\n",
        "print(\"Accuracy : %.4f\" % accuracy_gp)"
      ],
      "metadata": {
        "colab": {
          "base_uri": "https://localhost:8080/"
        },
        "id": "84UbduSODDWv",
        "outputId": "cf78e535-81eb-4ae7-f819-6751f46ecb3d"
      },
      "execution_count": null,
      "outputs": [
        {
          "output_type": "stream",
          "name": "stdout",
          "text": [
            "Accuracy : 0.8397\n"
          ]
        }
      ]
    },
    {
      "cell_type": "code",
      "source": [
        "# Naive Bayes (GaussianNB)\n",
        "naive_bayes = GaussianNB()\n",
        "naive_bayes.fit(X_train, y_train)\n",
        "y_pred_nb = naive_bayes.predict(X_test)\n",
        "accuracy_nb = accuracy_score(y_test, y_pred_nb)\n",
        "model_accuracies['Naive Bayes'] = accuracy_nb\n",
        "print(\"Accuracy : %.4f\" % accuracy_nb)"
      ],
      "metadata": {
        "colab": {
          "base_uri": "https://localhost:8080/"
        },
        "id": "okBl-t8uDDUn",
        "outputId": "2ef27724-379c-4ee7-eadb-562f532b7bd4"
      },
      "execution_count": null,
      "outputs": [
        {
          "output_type": "stream",
          "name": "stdout",
          "text": [
            "Accuracy : 0.3526\n"
          ]
        }
      ]
    },
    {
      "cell_type": "code",
      "source": [
        "# K-Nearest Neighbors\n",
        "knn = KNeighborsClassifier()\n",
        "knn.fit(X_train, y_train)\n",
        "y_pred_knn = knn.predict(X_test)\n",
        "accuracy_knn = accuracy_score(y_test, y_pred_knn)\n",
        "model_accuracies['K-Nearest Neighbors'] = accuracy_knn\n",
        "print(\"Accuracy : %.4f\" % accuracy_knn)"
      ],
      "metadata": {
        "colab": {
          "base_uri": "https://localhost:8080/"
        },
        "id": "fyRQwe7XDDPr",
        "outputId": "27f7fe36-9cd8-4c09-d122-9490e1c71d0e"
      },
      "execution_count": null,
      "outputs": [
        {
          "output_type": "stream",
          "name": "stdout",
          "text": [
            "Accuracy : 0.3462\n"
          ]
        }
      ]
    },
    {
      "cell_type": "code",
      "source": [
        "# Support Vector Classifier\n",
        "svc = SVC()\n",
        "svc.fit(X_train, y_train)\n",
        "y_pred_svc = svc.predict(X_test)\n",
        "accuracy_svc = accuracy_score(y_test, y_pred_svc)\n",
        "model_accuracies['Support Vector Classifier'] = accuracy_svc\n",
        "print(\"Accuracy : %.4f\" % accuracy_svc)"
      ],
      "metadata": {
        "colab": {
          "base_uri": "https://localhost:8080/"
        },
        "id": "dazUAGlKDDNy",
        "outputId": "e8f37947-59e0-4a24-c974-5570b21b4655"
      },
      "execution_count": null,
      "outputs": [
        {
          "output_type": "stream",
          "name": "stdout",
          "text": [
            "Accuracy : 0.8237\n"
          ]
        }
      ]
    },
    {
      "cell_type": "code",
      "source": [
        "# Decision Tree Classifier\n",
        "decision_tree = DecisionTreeClassifier()\n",
        "decision_tree.fit(X_train, y_train)\n",
        "y_pred_dt = decision_tree.predict(X_test)\n",
        "accuracy_dt = accuracy_score(y_test, y_pred_dt)\n",
        "model_accuracies['Decision Tree'] = accuracy_dt\n",
        "print(\"Accuracy : %.4f\" % accuracy_dt)"
      ],
      "metadata": {
        "colab": {
          "base_uri": "https://localhost:8080/"
        },
        "id": "iD6F8j1QDQNF",
        "outputId": "45047b1e-7be4-4327-8175-d1849c217055"
      },
      "execution_count": null,
      "outputs": [
        {
          "output_type": "stream",
          "name": "stdout",
          "text": [
            "Accuracy : 0.8397\n"
          ]
        }
      ]
    },
    {
      "cell_type": "markdown",
      "source": [
        "Now, let's finally present the best model and its performance:"
      ],
      "metadata": {
        "id": "vRFTqTd6DS92"
      }
    },
    {
      "cell_type": "code",
      "source": [
        "best_model = max(model_accuracies, key=model_accuracies.get)\n",
        "best_accuracy = model_accuracies[best_model]\n",
        "print(f\"The best model is {best_model} with an accuracy of {best_accuracy:.4f}\")"
      ],
      "metadata": {
        "colab": {
          "base_uri": "https://localhost:8080/"
        },
        "id": "ioahv1YkDYu9",
        "outputId": "98a006c3-827a-4dfb-9668-c7ce5af80cb5"
      },
      "execution_count": null,
      "outputs": [
        {
          "output_type": "stream",
          "name": "stdout",
          "text": [
            "The best model is AdaBoost with an accuracy of 0.8397\n"
          ]
        }
      ]
    },
    {
      "cell_type": "markdown",
      "source": [
        "Final accuracy is `0.8397`, which is good, because most likely the model is able to make precise predictions and not overfitted at the same time.\n",
        "\n"
      ],
      "metadata": {
        "id": "zI5OjotDD48R"
      }
    }
  ]
}